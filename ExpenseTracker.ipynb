{
 "cells": [
  {
   "cell_type": "code",
   "execution_count": 50,
   "id": "76fd60d9-427d-44db-a779-60aa3a2bc7be",
   "metadata": {},
   "outputs": [],
   "source": [
    "# Import necessary modules\n",
    "from datetime import datetime  # For validating date input\n",
    "import csv  # For reading and writing CSV files\n",
    "\n",
    "# Initialize expense tracking variables\n",
    "expense_records = []         # Stores all logged expense items\n",
    "monthly_budget = 0.0         # Monthly budget input\n",
    "expense_data_file = \"expenses_data.csv\"  # CSV file used to persist expense data\n"
   ]
  },
  {
   "cell_type": "code",
   "execution_count": 51,
   "id": "0aa9888a-551e-4b07-8572-31e621f50794",
   "metadata": {},
   "outputs": [],
   "source": [
    "def add_expense():\n",
    "    print(\"=== Add New Expenses ===\")\n",
    "\n",
    "    while True:\n",
    "        date_input = input(\"Enter the expense date (YYYY-MM-DD): \").strip()    \n",
    "        try:\n",
    "            datetime.strptime(date_input, \"%Y-%m-%d\")\n",
    "            expense_date = date_input\n",
    "            break\n",
    "        except ValueError:\n",
    "            print(\"Invalid date format! Please enter in the YYYY-MM-DD format\")\n",
    "        \n",
    "    expense_category = input(\"Enter the expense category (e.g. Travel, Accomodation, Food): \").strip()\n",
    "\n",
    "    # Keep asking for amount until a valid float is entered\n",
    "    while True:\n",
    "        try:\n",
    "            expense_amount = float(input(\"Enter the expense amount: \").strip())\n",
    "            break\n",
    "        except ValueError:\n",
    "            print(\"Invalid amount! Please enter a number.\")\n",
    "\n",
    "    expense_description = input(\"Enter a brief description of the expense: \").strip()\n",
    "\n",
    "    # Create a dictionary with the entered information\n",
    "    expense = {\n",
    "        \"date\": expense_date,\n",
    "        \"category\": expense_category,\n",
    "        \"amount\": expense_amount,\n",
    "        \"description\": expense_description\n",
    "    }\n",
    "\n",
    "    expense_records.append(expense)\n",
    "    print(\"Expense added Successfully!\")"
   ]
  },
  {
   "cell_type": "code",
   "execution_count": 52,
   "id": "c92cea35-563c-4723-955f-231d862a0363",
   "metadata": {},
   "outputs": [],
   "source": [
    "def view_expenses():\n",
    "    print(\"\\n=== View Expense List ===\")\n",
    "\n",
    "    if not expense_records:\n",
    "        print(\"No expenses to display.\")\n",
    "        return\n",
    "\n",
    "    for index, expense in enumerate(expense_records, start=1):\n",
    "        \n",
    "        if \"date\" not in expense or not expense[\"date\"]:\n",
    "            print(f\"Expense #{index} is missing date. Skipping...\")\n",
    "            continue\n",
    "        if \"category\" not in expense or not expense[\"category\"]:\n",
    "            print(f\"Expense #{index} is missing category. Skipping...\")\n",
    "            continue\n",
    "        if \"amount\" not in expense or not expense[\"amount\"]:\n",
    "            print(f\"Expense #{index} is missing amount. Skipping...\")\n",
    "            continue\n",
    "        if \"description\" not in expense or not expense[\"description\"]:\n",
    "            print(f\"Expense #{index} is missing description. Skipping...\")\n",
    "            continue\n",
    "\n",
    "        print(f\"\\nExpense #{index}\")\n",
    "        print(f\"Date        : {expense['date']}\")\n",
    "        print(f\"Category    : {expense['category']}\")\n",
    "        print(f\"Amount      : ₹{expense['amount']:.2f}\")\n",
    "        print(f\"Description : {expense['description']}\")\n"
   ]
  },
  {
   "cell_type": "code",
   "execution_count": 53,
   "id": "6c958aa3-9763-470f-9afd-e931b455389d",
   "metadata": {},
   "outputs": [],
   "source": [
    "def set_budget():\n",
    "    global monthly_budget\n",
    "    print(\"=== Set Monthly Budget ===\")\n",
    "    try:\n",
    "        monthly_budget = float(input(\"Enter your monthly budget: \").strip())\n",
    "        print(f\"Monthly budget set to ₹{monthly_budget:.2f}\")\n",
    "    except ValueError:\n",
    "        print(\"Invalid input. Please enter a numeric value.\")\n",
    "\n",
    "def calculate_total_expenses():\n",
    "    total = 0.0\n",
    "    for expense_item in expense_records:\n",
    "        if \"amount\" in expense_item and expense_item[\"amount\"]:\n",
    "            total += float(expense_item[\"amount\"])\n",
    "    return total\n",
    "\n",
    "def track_budget():\n",
    "    print(\"=== Budget Tracker ===\")\n",
    "    if monthly_budget == 0:\n",
    "        print(\"Please set your monthly budget first.\")\n",
    "        return\n",
    "\n",
    "    total_spent = calculate_total_expenses()\n",
    "    print(f\"Total expenses so far: ₹{total_spent:.2f}\")\n",
    "    \n",
    "    remaining = monthly_budget - total_spent\n",
    "    if remaining < 0:\n",
    "        print(f\"⚠ Budget exceeded by ₹{abs(remaining):.2f}!\")\n",
    "    else:\n",
    "        print(f\"✅ You have ₹{remaining:.2f} left for the month.\")\n"
   ]
  },
  {
   "cell_type": "code",
   "execution_count": 54,
   "id": "ed03033b-9a3d-42d4-bbdb-e42f54621770",
   "metadata": {},
   "outputs": [],
   "source": [
    "def save_expenses_to_file():\n",
    "    try:\n",
    "        with open(expense_data_file, \"w\", newline='', encoding=\"utf-8\") as file:\n",
    "            writer = csv.DictWriter(file, fieldnames=[\"date\", \"category\", \"amount\", \"description\"])\n",
    "            writer.writeheader()\n",
    "            writer.writerows(expense_records)\n",
    "            print(f\"Expenses saved to {expense_data_file}\")\n",
    "    except Exception as e:\n",
    "        print(f\"Error saving file: {e}\")\n",
    "\n",
    "def load_expenses_from_file():\n",
    "    try:\n",
    "        with open(expense_data_file, \"r\", newline='', encoding=\"utf-8\") as file:\n",
    "            reader = csv.DictReader(file)\n",
    "            for row in reader:\n",
    "                try:\n",
    "                    row[\"amount\"] = float(row[\"amount\"])\n",
    "                    expense_records.append(row)\n",
    "                except ValueError:\n",
    "                    continue  # skip if amount is invalid\n",
    "        print(f\"Loaded expenses from {expense_data_file}\")\n",
    "    except FileNotFoundError:\n",
    "        print(\"No saved CSV file found.\")\n",
    "    except Exception as e:\n",
    "        print(f\"Error loading file: {e}\")\n"
   ]
  },
  {
   "cell_type": "code",
   "execution_count": null,
   "id": "bb5e9ec5-771d-4f00-afec-3883b30a540a",
   "metadata": {},
   "outputs": [
    {
     "name": "stdout",
     "output_type": "stream",
     "text": [
      "No saved CSV file found.\n",
      "\n",
      "=== Personal Expense Tracker Menu ===\n",
      "1. Add Expense\n",
      "2. View Expenses\n",
      "3. Set & Track Budget\n",
      "4. Save Expenses to File\n",
      "5. Exit\n"
     ]
    },
    {
     "name": "stdin",
     "output_type": "stream",
     "text": [
      "Choose an option (1–5):  1\n"
     ]
    },
    {
     "name": "stdout",
     "output_type": "stream",
     "text": [
      "=== Add New Expenses ===\n"
     ]
    },
    {
     "name": "stdin",
     "output_type": "stream",
     "text": [
      "Enter the expense date (YYYY-MM-DD):  2025-01-01\n",
      "Enter the expense category (e.g. Travel, Accomodation, Food):  Travel\n",
      "Enter the expense amount:  1000\n",
      "Enter a brief description of the expense:  Bike ride\n"
     ]
    },
    {
     "name": "stdout",
     "output_type": "stream",
     "text": [
      "Expense added Successfully!\n",
      "\n",
      "=== Personal Expense Tracker Menu ===\n",
      "1. Add Expense\n",
      "2. View Expenses\n",
      "3. Set & Track Budget\n",
      "4. Save Expenses to File\n",
      "5. Exit\n"
     ]
    },
    {
     "name": "stdin",
     "output_type": "stream",
     "text": [
      "Choose an option (1–5):  3\n"
     ]
    },
    {
     "name": "stdout",
     "output_type": "stream",
     "text": [
      "=== Set Monthly Budget ===\n"
     ]
    },
    {
     "name": "stdin",
     "output_type": "stream",
     "text": [
      "Enter your monthly budget:  10000\n"
     ]
    },
    {
     "name": "stdout",
     "output_type": "stream",
     "text": [
      "Monthly budget set to ₹10000.00\n",
      "=== Budget Tracker ===\n",
      "Total expenses so far: ₹1000.00\n",
      "✅ You have ₹9000.00 left for the month.\n",
      "\n",
      "=== Personal Expense Tracker Menu ===\n",
      "1. Add Expense\n",
      "2. View Expenses\n",
      "3. Set & Track Budget\n",
      "4. Save Expenses to File\n",
      "5. Exit\n"
     ]
    },
    {
     "name": "stdin",
     "output_type": "stream",
     "text": [
      "Choose an option (1–5):  1\n"
     ]
    },
    {
     "name": "stdout",
     "output_type": "stream",
     "text": [
      "=== Add New Expenses ===\n"
     ]
    },
    {
     "name": "stdin",
     "output_type": "stream",
     "text": [
      "Enter the expense date (YYYY-MM-DD):  2025-02-10\n",
      "Enter the expense category (e.g. Travel, Accomodation, Food):  Food\n",
      "Enter the expense amount:  1200\n",
      "Enter a brief description of the expense:  Dinning\n"
     ]
    },
    {
     "name": "stdout",
     "output_type": "stream",
     "text": [
      "Expense added Successfully!\n",
      "\n",
      "=== Personal Expense Tracker Menu ===\n",
      "1. Add Expense\n",
      "2. View Expenses\n",
      "3. Set & Track Budget\n",
      "4. Save Expenses to File\n",
      "5. Exit\n"
     ]
    },
    {
     "name": "stdin",
     "output_type": "stream",
     "text": [
      "Choose an option (1–5):  1\n"
     ]
    },
    {
     "name": "stdout",
     "output_type": "stream",
     "text": [
      "=== Add New Expenses ===\n"
     ]
    },
    {
     "name": "stdin",
     "output_type": "stream",
     "text": [
      "Enter the expense date (YYYY-MM-DD):  2025-03-09\n",
      "Enter the expense category (e.g. Travel, Accomodation, Food):  Accomodation\n",
      "Enter the expense amount:  2000\n",
      "Enter a brief description of the expense:  Hotel stays\n"
     ]
    },
    {
     "name": "stdout",
     "output_type": "stream",
     "text": [
      "Expense added Successfully!\n",
      "\n",
      "=== Personal Expense Tracker Menu ===\n",
      "1. Add Expense\n",
      "2. View Expenses\n",
      "3. Set & Track Budget\n",
      "4. Save Expenses to File\n",
      "5. Exit\n"
     ]
    },
    {
     "name": "stdin",
     "output_type": "stream",
     "text": [
      "Choose an option (1–5):  2\n"
     ]
    },
    {
     "name": "stdout",
     "output_type": "stream",
     "text": [
      "\n",
      "=== View Expense List ===\n",
      "\n",
      "Expense #1\n",
      "Date        : 2025-01-01\n",
      "Category    : Travel\n",
      "Amount      : ₹1000.00\n",
      "Description : Bike ride\n",
      "\n",
      "Expense #2\n",
      "Date        : 2025-02-10\n",
      "Category    : Food\n",
      "Amount      : ₹1200.00\n",
      "Description : Dinning\n",
      "\n",
      "Expense #3\n",
      "Date        : 2025-03-09\n",
      "Category    : Accomodation\n",
      "Amount      : ₹2000.00\n",
      "Description : Hotel stays\n",
      "\n",
      "=== Personal Expense Tracker Menu ===\n",
      "1. Add Expense\n",
      "2. View Expenses\n",
      "3. Set & Track Budget\n",
      "4. Save Expenses to File\n",
      "5. Exit\n"
     ]
    },
    {
     "name": "stdin",
     "output_type": "stream",
     "text": [
      "Choose an option (1–5):  4\n"
     ]
    },
    {
     "name": "stdout",
     "output_type": "stream",
     "text": [
      "Expenses saved to expenses_data.csv\n",
      "\n",
      "=== Personal Expense Tracker Menu ===\n",
      "1. Add Expense\n",
      "2. View Expenses\n",
      "3. Set & Track Budget\n",
      "4. Save Expenses to File\n",
      "5. Exit\n"
     ]
    },
    {
     "name": "stdin",
     "output_type": "stream",
     "text": [
      "Choose an option (1–5):  3\n"
     ]
    },
    {
     "name": "stdout",
     "output_type": "stream",
     "text": [
      "=== Set Monthly Budget ===\n"
     ]
    },
    {
     "name": "stdin",
     "output_type": "stream",
     "text": [
      "Enter your monthly budget:  10000\n"
     ]
    },
    {
     "name": "stdout",
     "output_type": "stream",
     "text": [
      "Monthly budget set to ₹10000.00\n",
      "=== Budget Tracker ===\n",
      "Total expenses so far: ₹4200.00\n",
      "✅ You have ₹5800.00 left for the month.\n",
      "\n",
      "=== Personal Expense Tracker Menu ===\n",
      "1. Add Expense\n",
      "2. View Expenses\n",
      "3. Set & Track Budget\n",
      "4. Save Expenses to File\n",
      "5. Exit\n"
     ]
    },
    {
     "name": "stdin",
     "output_type": "stream",
     "text": [
      "Choose an option (1–5):  4\n"
     ]
    },
    {
     "name": "stdout",
     "output_type": "stream",
     "text": [
      "Expenses saved to expenses_data.csv\n",
      "\n",
      "=== Personal Expense Tracker Menu ===\n",
      "1. Add Expense\n",
      "2. View Expenses\n",
      "3. Set & Track Budget\n",
      "4. Save Expenses to File\n",
      "5. Exit\n"
     ]
    }
   ],
   "source": [
    "def show_menu():\n",
    "    while True:\n",
    "        print(\"\\n=== Personal Expense Tracker Menu ===\")\n",
    "        print(\"1. Add Expense\")\n",
    "        print(\"2. View Expenses\")\n",
    "        print(\"3. Set & Track Budget\")\n",
    "        print(\"4. Save Expenses to File\")\n",
    "        print(\"5. Exit\")\n",
    "\n",
    "        choice = input(\"Choose an option (1–5): \").strip()\n",
    "\n",
    "        if choice == \"1\":\n",
    "            add_expense()\n",
    "        elif choice == \"2\":\n",
    "            view_expenses()\n",
    "        elif choice == \"3\":\n",
    "            set_budget()\n",
    "            track_budget()\n",
    "        elif choice == \"4\":\n",
    "            save_expenses_to_file()\n",
    "        elif choice == \"5\":\n",
    "            save_expenses_to_file()\n",
    "            print(\"Exiting\")\n",
    "            break\n",
    "        else:\n",
    "            print(\"Invalid choice. Please enter a number between 1 and 5.\")\n",
    "\n",
    "\n",
    "# -------------------------\n",
    "# Start the Project\n",
    "# -------------------------\n",
    "load_expenses_from_file()\n",
    "show_menu()"
   ]
  },
  {
   "cell_type": "code",
   "execution_count": null,
   "id": "472e5da5-85ad-4534-8fef-40c0090c081c",
   "metadata": {},
   "outputs": [],
   "source": []
  }
 ],
 "metadata": {
  "kernelspec": {
   "display_name": "Python [conda env:base] *",
   "language": "python",
   "name": "conda-base-py"
  },
  "language_info": {
   "codemirror_mode": {
    "name": "ipython",
    "version": 3
   },
   "file_extension": ".py",
   "mimetype": "text/x-python",
   "name": "python",
   "nbconvert_exporter": "python",
   "pygments_lexer": "ipython3",
   "version": "3.12.7"
  }
 },
 "nbformat": 4,
 "nbformat_minor": 5
}
